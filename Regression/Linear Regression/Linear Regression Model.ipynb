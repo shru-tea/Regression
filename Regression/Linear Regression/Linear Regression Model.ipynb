{
 "cells": [
  {
   "cell_type": "code",
   "execution_count": 87,
   "id": "charitable-vintage",
   "metadata": {},
   "outputs": [],
   "source": [
    "#importing the libraries\n",
    "import numpy as np\n",
    "import pandas as pd\n",
    "import matplotlib.pyplot as plt\n",
    "import seaborn as sns\n",
    "\n",
    "from sklearn.linear_model import LinearRegression\n",
    "from sklearn.model_selection import train_test_split\n",
    "from sklearn.metrics import mean_squared_error,r2_score,mean_absolute_error\n",
    "\n",
    "%matplotlib inline"
   ]
  },
  {
   "cell_type": "code",
   "execution_count": 88,
   "id": "atmospheric-venture",
   "metadata": {},
   "outputs": [
    {
     "name": "stdout",
     "output_type": "stream",
     "text": [
      "Requirement already satisfied: openpyxl in c:\\users\\anand\\appdata\\local\\programs\\python\\python39\\lib\\site-packages (3.0.7)\n",
      "Requirement already satisfied: et-xmlfile in c:\\users\\anand\\appdata\\local\\programs\\python\\python39\\lib\\site-packages (from openpyxl) (1.0.1)\n",
      "Note: you may need to restart the kernel to use updated packages.\n"
     ]
    }
   ],
   "source": [
    "pip install openpyxl"
   ]
  },
  {
   "cell_type": "code",
   "execution_count": 89,
   "id": "widespread-pantyhose",
   "metadata": {},
   "outputs": [
    {
     "data": {
      "text/html": [
       "<div>\n",
       "<style scoped>\n",
       "    .dataframe tbody tr th:only-of-type {\n",
       "        vertical-align: middle;\n",
       "    }\n",
       "\n",
       "    .dataframe tbody tr th {\n",
       "        vertical-align: top;\n",
       "    }\n",
       "\n",
       "    .dataframe thead th {\n",
       "        text-align: right;\n",
       "    }\n",
       "</style>\n",
       "<table border=\"1\" class=\"dataframe\">\n",
       "  <thead>\n",
       "    <tr style=\"text-align: right;\">\n",
       "      <th></th>\n",
       "      <th>exon_price</th>\n",
       "      <th>oil_price</th>\n",
       "    </tr>\n",
       "    <tr>\n",
       "      <th>date</th>\n",
       "      <th></th>\n",
       "      <th></th>\n",
       "    </tr>\n",
       "  </thead>\n",
       "  <tbody>\n",
       "    <tr>\n",
       "      <th>2014-03-28</th>\n",
       "      <td>97.699997</td>\n",
       "      <td>106.64</td>\n",
       "    </tr>\n",
       "    <tr>\n",
       "      <th>2014-03-31</th>\n",
       "      <td>97.680000</td>\n",
       "      <td>105.95</td>\n",
       "    </tr>\n",
       "    <tr>\n",
       "      <th>2014-04-01</th>\n",
       "      <td>97.730003</td>\n",
       "      <td>105.70</td>\n",
       "    </tr>\n",
       "    <tr>\n",
       "      <th>2014-04-02</th>\n",
       "      <td>97.949997</td>\n",
       "      <td>103.37</td>\n",
       "    </tr>\n",
       "    <tr>\n",
       "      <th>2014-04-03</th>\n",
       "      <td>97.930000</td>\n",
       "      <td>104.88</td>\n",
       "    </tr>\n",
       "  </tbody>\n",
       "</table>\n",
       "</div>"
      ],
      "text/plain": [
       "            exon_price  oil_price\n",
       "date                             \n",
       "2014-03-28   97.699997     106.64\n",
       "2014-03-31   97.680000     105.95\n",
       "2014-04-01   97.730003     105.70\n",
       "2014-04-02   97.949997     103.37\n",
       "2014-04-03   97.930000     104.88"
      ]
     },
     "execution_count": 89,
     "metadata": {},
     "output_type": "execute_result"
    }
   ],
   "source": [
    "#loading the dataset\n",
    "price_df = pd.read_excel('C:\\\\Users\\\\Anand\\\\Downloads\\\\oil_exxon.xlsx')\n",
    "\n",
    "#making date column to be the index\n",
    "price_df.index= pd.to_datetime(price_df['date'])\n",
    "\n",
    "\n",
    "#dropping the old date column\n",
    "price_df = price_df.drop(['date'],axis=1)\n",
    "price_df.head()"
   ]
  },
  {
   "cell_type": "markdown",
   "id": "adolescent-immune",
   "metadata": {},
   "source": [
    "## cleaning the data"
   ]
  },
  {
   "cell_type": "code",
   "execution_count": 90,
   "id": "cleared-musical",
   "metadata": {},
   "outputs": [
    {
     "data": {
      "text/plain": [
       "exon_price    float64\n",
       "oil_price     float64\n",
       "dtype: object"
      ]
     },
     "execution_count": 90,
     "metadata": {},
     "output_type": "execute_result"
    }
   ],
   "source": [
    "#check the datatypes of the columns\n",
    "price_df.dtypes"
   ]
  },
  {
   "cell_type": "code",
   "execution_count": 91,
   "id": "mineral-wrong",
   "metadata": {},
   "outputs": [
    {
     "name": "stdout",
     "output_type": "stream",
     "text": [
      "<class 'pandas.core.frame.DataFrame'>\n",
      "DatetimeIndex: 1256 entries, 2014-03-28 to 2019-03-25\n",
      "Data columns (total 2 columns):\n",
      " #   Column      Non-Null Count  Dtype  \n",
      "---  ------      --------------  -----  \n",
      " 0   exon_price  1256 non-null   float64\n",
      " 1   oil_price   1248 non-null   float64\n",
      "dtypes: float64(2)\n",
      "memory usage: 29.4 KB\n",
      "None\n"
     ]
    }
   ],
   "source": [
    "print(price_df.info())"
   ]
  },
  {
   "cell_type": "code",
   "execution_count": 92,
   "id": "placed-funds",
   "metadata": {},
   "outputs": [
    {
     "name": "stdout",
     "output_type": "stream",
     "text": [
      "(1256, 2)\n"
     ]
    }
   ],
   "source": [
    "print(price_df.shape)"
   ]
  },
  {
   "cell_type": "code",
   "execution_count": 93,
   "id": "rough-defeat",
   "metadata": {},
   "outputs": [
    {
     "data": {
      "text/html": [
       "<div>\n",
       "<style scoped>\n",
       "    .dataframe tbody tr th:only-of-type {\n",
       "        vertical-align: middle;\n",
       "    }\n",
       "\n",
       "    .dataframe tbody tr th {\n",
       "        vertical-align: top;\n",
       "    }\n",
       "\n",
       "    .dataframe thead th {\n",
       "        text-align: right;\n",
       "    }\n",
       "</style>\n",
       "<table border=\"1\" class=\"dataframe\">\n",
       "  <thead>\n",
       "    <tr style=\"text-align: right;\">\n",
       "      <th></th>\n",
       "      <th>exxon_price</th>\n",
       "      <th>oil_price</th>\n",
       "    </tr>\n",
       "    <tr>\n",
       "      <th>date</th>\n",
       "      <th></th>\n",
       "      <th></th>\n",
       "    </tr>\n",
       "  </thead>\n",
       "  <tbody>\n",
       "    <tr>\n",
       "      <th>2014-03-28</th>\n",
       "      <td>97.699997</td>\n",
       "      <td>106.64</td>\n",
       "    </tr>\n",
       "    <tr>\n",
       "      <th>2014-03-31</th>\n",
       "      <td>97.680000</td>\n",
       "      <td>105.95</td>\n",
       "    </tr>\n",
       "    <tr>\n",
       "      <th>2014-04-01</th>\n",
       "      <td>97.730003</td>\n",
       "      <td>105.70</td>\n",
       "    </tr>\n",
       "    <tr>\n",
       "      <th>2014-04-02</th>\n",
       "      <td>97.949997</td>\n",
       "      <td>103.37</td>\n",
       "    </tr>\n",
       "    <tr>\n",
       "      <th>2014-04-03</th>\n",
       "      <td>97.930000</td>\n",
       "      <td>104.88</td>\n",
       "    </tr>\n",
       "  </tbody>\n",
       "</table>\n",
       "</div>"
      ],
      "text/plain": [
       "            exxon_price  oil_price\n",
       "date                              \n",
       "2014-03-28    97.699997     106.64\n",
       "2014-03-31    97.680000     105.95\n",
       "2014-04-01    97.730003     105.70\n",
       "2014-04-02    97.949997     103.37\n",
       "2014-04-03    97.930000     104.88"
      ]
     },
     "execution_count": 93,
     "metadata": {},
     "output_type": "execute_result"
    }
   ],
   "source": [
    "#fixing the mistakes in the dataset\n",
    "# 1. renaming of exon_price to exxon_price\n",
    "price_df.rename(columns={'exon_price':'exxon_price'},inplace=True)\n",
    "price_df.head()"
   ]
  },
  {
   "cell_type": "code",
   "execution_count": 94,
   "id": "inside-retail",
   "metadata": {},
   "outputs": [
    {
     "data": {
      "text/html": [
       "<div>\n",
       "<style scoped>\n",
       "    .dataframe tbody tr th:only-of-type {\n",
       "        vertical-align: middle;\n",
       "    }\n",
       "\n",
       "    .dataframe tbody tr th {\n",
       "        vertical-align: top;\n",
       "    }\n",
       "\n",
       "    .dataframe thead th {\n",
       "        text-align: right;\n",
       "    }\n",
       "</style>\n",
       "<table border=\"1\" class=\"dataframe\">\n",
       "  <thead>\n",
       "    <tr style=\"text-align: right;\">\n",
       "      <th></th>\n",
       "      <th>exxon_price</th>\n",
       "      <th>oil_price</th>\n",
       "    </tr>\n",
       "    <tr>\n",
       "      <th>date</th>\n",
       "      <th></th>\n",
       "      <th></th>\n",
       "    </tr>\n",
       "  </thead>\n",
       "  <tbody>\n",
       "    <tr>\n",
       "      <th>2015-08-31</th>\n",
       "      <td>75.239998</td>\n",
       "      <td>NaN</td>\n",
       "    </tr>\n",
       "    <tr>\n",
       "      <th>2016-12-27</th>\n",
       "      <td>90.750000</td>\n",
       "      <td>NaN</td>\n",
       "    </tr>\n",
       "    <tr>\n",
       "      <th>2017-12-26</th>\n",
       "      <td>83.980003</td>\n",
       "      <td>NaN</td>\n",
       "    </tr>\n",
       "    <tr>\n",
       "      <th>2018-04-02</th>\n",
       "      <td>73.220001</td>\n",
       "      <td>NaN</td>\n",
       "    </tr>\n",
       "    <tr>\n",
       "      <th>2018-05-07</th>\n",
       "      <td>77.739998</td>\n",
       "      <td>NaN</td>\n",
       "    </tr>\n",
       "    <tr>\n",
       "      <th>2018-12-24</th>\n",
       "      <td>65.510002</td>\n",
       "      <td>NaN</td>\n",
       "    </tr>\n",
       "    <tr>\n",
       "      <th>2018-12-26</th>\n",
       "      <td>68.639999</td>\n",
       "      <td>NaN</td>\n",
       "    </tr>\n",
       "    <tr>\n",
       "      <th>2018-12-31</th>\n",
       "      <td>68.190002</td>\n",
       "      <td>NaN</td>\n",
       "    </tr>\n",
       "  </tbody>\n",
       "</table>\n",
       "</div>"
      ],
      "text/plain": [
       "            exxon_price  oil_price\n",
       "date                              \n",
       "2015-08-31    75.239998        NaN\n",
       "2016-12-27    90.750000        NaN\n",
       "2017-12-26    83.980003        NaN\n",
       "2018-04-02    73.220001        NaN\n",
       "2018-05-07    77.739998        NaN\n",
       "2018-12-24    65.510002        NaN\n",
       "2018-12-26    68.639999        NaN\n",
       "2018-12-31    68.190002        NaN"
      ]
     },
     "execution_count": 94,
     "metadata": {},
     "output_type": "execute_result"
    }
   ],
   "source": [
    "#we can make a new df to see where the NULL values are present\n",
    "null_values=price_df[price_df.isna().any(axis=1)]\n",
    "null_values"
   ]
  },
  {
   "cell_type": "code",
   "execution_count": 95,
   "id": "boring-freeware",
   "metadata": {},
   "outputs": [],
   "source": [
    "#we can change the NaN values to some actual data\n",
    "#price_df.loc[['2015-08-31','2016-12-27'],'oil_price'] = 109.45\n",
    "#price_df.loc['2016-12-27']"
   ]
  },
  {
   "cell_type": "code",
   "execution_count": 102,
   "id": "transparent-stevens",
   "metadata": {},
   "outputs": [
    {
     "data": {
      "text/plain": [
       "exxon_price    False\n",
       "oil_price      False\n",
       "dtype: bool"
      ]
     },
     "metadata": {},
     "output_type": "display_data"
    },
    {
     "name": "stdout",
     "output_type": "stream",
     "text": [
      "(1248, 2)\n"
     ]
    },
    {
     "data": {
      "text/plain": [
       "exxon_price    False\n",
       "oil_price      False\n",
       "dtype: bool"
      ]
     },
     "metadata": {},
     "output_type": "display_data"
    }
   ],
   "source": [
    "# 2.checking for null values\n",
    "display(price_df.isna().any())\n",
    "#price_df.isna().sum())\n",
    "\n",
    "#either can place certain values in place of NaN or drop those values and since this is a single attribute dataset, we will \n",
    "# drop the NaN values\n",
    "\n",
    "price_df=price_df.dropna()\n",
    "#print(price_df.shape ) -> (1248,2)\n",
    "display(price_df.isna().any())"
   ]
  },
  {
   "cell_type": "markdown",
   "id": "presidential-literacy",
   "metadata": {},
   "source": [
    "## Exporatory Data Analysis"
   ]
  },
  {
   "cell_type": "raw",
   "id": "accessible-delight",
   "metadata": {},
   "source": [
    "EDA will help to visualize the data and see if any corelation exists between the attributes\n",
    "    1.How is the data distributed"
   ]
  },
  {
   "cell_type": "code",
   "execution_count": 111,
   "id": "verified-billy",
   "metadata": {},
   "outputs": [
    {
     "data": {
      "text/plain": [
       "<AxesSubplot:title={'center':'Exxon vs Oil'}, xlabel='exxon_price', ylabel='oil_price'>"
      ]
     },
     "execution_count": 111,
     "metadata": {},
     "output_type": "execute_result"
    },
    {
     "data": {
      "image/png": "[encoded data removed]",
      "text/plain": [
       "<Figure size 576x360 with 1 Axes>"
      ]
     },
     "metadata": {},
     "output_type": "display_data"
    }
   ],
   "source": [
    "plt.figure(figsize=(8,5))\n",
    "sns.set_style('whitegrid')\n",
    "plt.title('Exxon vs Oil',fontsize=18)\n",
    "sns.scatterplot(x='exxon_price',y='oil_price',data=price_df,alpha=0.5)"
   ]
  },
  {
   "cell_type": "code",
   "execution_count": null,
   "id": "working-toddler",
   "metadata": {},
   "outputs": [],
   "source": [
    "#there is definately a relationship between exxon_price and oil_price"
   ]
  },
  {
   "cell_type": "code",
   "execution_count": 112,
   "id": "hungry-singer",
   "metadata": {},
   "outputs": [
    {
     "data": {
      "text/plain": [
       "<AxesSubplot:>"
      ]
     },
     "execution_count": 112,
     "metadata": {},
     "output_type": "execute_result"
    },
    {
     "data": {
      "image/png": "[encoded data removed]",
      "text/plain": [
       "<Figure size 432x288 with 2 Axes>"
      ]
     },
     "metadata": {},
     "output_type": "display_data"
    }
   ],
   "source": [
    "#Measure the corelation\n",
    "sns.heatmap(price_df.corr(),annot=True)"
   ]
  },
  {
   "cell_type": "markdown",
   "id": "framed-outdoors",
   "metadata": {},
   "source": [
    "#### we can see that the corelation between oil_price and exxon_price is a pretty strong relationship"
   ]
  },
  {
   "cell_type": "code",
   "execution_count": 114,
   "id": "lyric-utilization",
   "metadata": {},
   "outputs": [
    {
     "data": {
      "text/html": [
       "<div>\n",
       "<style scoped>\n",
       "    .dataframe tbody tr th:only-of-type {\n",
       "        vertical-align: middle;\n",
       "    }\n",
       "\n",
       "    .dataframe tbody tr th {\n",
       "        vertical-align: top;\n",
       "    }\n",
       "\n",
       "    .dataframe thead th {\n",
       "        text-align: right;\n",
       "    }\n",
       "</style>\n",
       "<table border=\"1\" class=\"dataframe\">\n",
       "  <thead>\n",
       "    <tr style=\"text-align: right;\">\n",
       "      <th></th>\n",
       "      <th>exxon_price</th>\n",
       "      <th>oil_price</th>\n",
       "    </tr>\n",
       "  </thead>\n",
       "  <tbody>\n",
       "    <tr>\n",
       "      <th>count</th>\n",
       "      <td>1248.000000</td>\n",
       "      <td>1248.000000</td>\n",
       "    </tr>\n",
       "    <tr>\n",
       "      <th>mean</th>\n",
       "      <td>84.802796</td>\n",
       "      <td>61.935000</td>\n",
       "    </tr>\n",
       "    <tr>\n",
       "      <th>std</th>\n",
       "      <td>7.424687</td>\n",
       "      <td>19.288424</td>\n",
       "    </tr>\n",
       "    <tr>\n",
       "      <th>min</th>\n",
       "      <td>68.120003</td>\n",
       "      <td>26.010000</td>\n",
       "    </tr>\n",
       "    <tr>\n",
       "      <th>25%</th>\n",
       "      <td>80.190002</td>\n",
       "      <td>48.162500</td>\n",
       "    </tr>\n",
       "    <tr>\n",
       "      <th>50%</th>\n",
       "      <td>83.024998</td>\n",
       "      <td>57.120000</td>\n",
       "    </tr>\n",
       "    <tr>\n",
       "      <th>75%</th>\n",
       "      <td>88.529999</td>\n",
       "      <td>70.725000</td>\n",
       "    </tr>\n",
       "    <tr>\n",
       "      <th>max</th>\n",
       "      <td>104.379997</td>\n",
       "      <td>115.190000</td>\n",
       "    </tr>\n",
       "  </tbody>\n",
       "</table>\n",
       "</div>"
      ],
      "text/plain": [
       "       exxon_price    oil_price\n",
       "count  1248.000000  1248.000000\n",
       "mean     84.802796    61.935000\n",
       "std       7.424687    19.288424\n",
       "min      68.120003    26.010000\n",
       "25%      80.190002    48.162500\n",
       "50%      83.024998    57.120000\n",
       "75%      88.529999    70.725000\n",
       "max     104.379997   115.190000"
      ]
     },
     "execution_count": 114,
     "metadata": {},
     "output_type": "execute_result"
    }
   ],
   "source": [
    "#statistical summary\n",
    "price_df.describe()"
   ]
  },
  {
   "cell_type": "markdown",
   "id": "sustainable-mapping",
   "metadata": {},
   "source": [
    "## checking for outliers and skewness\n"
   ]
  },
  {
   "cell_type": "code",
   "execution_count": 123,
   "id": "biological-bonus",
   "metadata": {},
   "outputs": [
    {
     "data": {
      "text/plain": [
       "array([[<AxesSubplot:title={'center':'exxon_price'}>,\n",
       "        <AxesSubplot:title={'center':'oil_price'}>]], dtype=object)"
      ]
     },
     "execution_count": 123,
     "metadata": {},
     "output_type": "execute_result"
    },
    {
     "data": {
      "image/png": "[encoded data removed]",
      "text/plain": [
       "<Figure size 432x288 with 2 Axes>"
      ]
     },
     "metadata": {},
     "output_type": "display_data"
    }
   ],
   "source": [
    "price_df.hist(grid = False, color = 'r')"
   ]
  },
  {
   "cell_type": "raw",
   "id": "saving-complement",
   "metadata": {},
   "source": [
    "the distribution does look to be slightly skewed(not symmetric) particularly positive skewness. \n",
    "Kurtosis measures the stepedness of the distribution or the height of the distribution and skewness is used to measure the symmetry of the distribution"
   ]
  },
  {
   "cell_type": "code",
   "execution_count": 128,
   "id": "italian-complexity",
   "metadata": {},
   "outputs": [
    {
     "name": "stdout",
     "output_type": "stream",
     "text": [
      "Exxon kurtosis : 0.08839\n",
      "Oil kurtosis : 0.5321\n",
      "Exxon skewness : 0.66\n",
      "Oil skeweness : 1.0\n"
     ]
    }
   ],
   "source": [
    "from scipy import stats\n",
    "from scipy.stats import kurtosis,skew\n",
    "\n",
    "#calculate the kurtosis using fisher method\n",
    "exxon_kurtosis = kurtosis(price_df['exxon_price'],fisher=True)\n",
    "oil_kurtosis = kurtosis(price_df['oil_price'],fisher=True)\n",
    "\n",
    "#calculating the skewness\n",
    "exxon_skewness = skew(price_df['exxon_price'])\n",
    "oil_skewness = skew(price_df['oil_price'])\n",
    "\n",
    "#kurtosis \n",
    "print(\"Exxon kurtosis : {:.4}\".format(exxon_kurtosis))\n",
    "print(\"Oil kurtosis : {:.4}\".format(oil_kurtosis))\n",
    "\n",
    "print(\"Exxon skewness : {:.2}\".format(exxon_skewness))\n",
    "print(\"Oil skeweness : {:.2}\".format(oil_skewness))\n",
    "\n",
    "#If skewness < −1 or > than +1, the distribution is highly skewed.\n",
    "#If skewness is between −1 and −½ or between +½ and +1, the distribution is moderately skewed.\n",
    "#If skewness is between −½ and +½, the distribution is approximately symmetric.\n",
    "\n",
    "#our oil_price is highly skewed and exxon_price is moderately skewed"
   ]
  },
  {
   "cell_type": "markdown",
   "id": "afraid-minnesota",
   "metadata": {},
   "source": [
    "## build the model"
   ]
  },
  {
   "cell_type": "code",
   "execution_count": 132,
   "id": "geographic-revision",
   "metadata": {},
   "outputs": [],
   "source": [
    "#splitting the dataset\n",
    "X = price_df[['oil_price']]\n",
    "y = price_df.drop('oil_price',axis=1)  #Y is the target variable\n",
    "\n",
    "#splitting into training and testing instance in 80-20 ratio\n",
    "X_train,X_test,y_train,y_test = train_test_split(X,y,test_size=0.2,random_state=1)"
   ]
  },
  {
   "cell_type": "code",
   "execution_count": 134,
   "id": "rotary-killer",
   "metadata": {},
   "outputs": [
    {
     "data": {
      "text/plain": [
       "LinearRegression()"
      ]
     },
     "execution_count": 134,
     "metadata": {},
     "output_type": "execute_result"
    }
   ],
   "source": [
    "#create and fit the data\n",
    "model=LinearRegression()\n",
    "model.fit(X_train,y_train)"
   ]
  },
  {
   "cell_type": "code",
   "execution_count": 142,
   "id": "wired-metro",
   "metadata": {},
   "outputs": [
    {
     "name": "stdout",
     "output_type": "stream",
     "text": [
      "The coefficient of our model is 0.23\n",
      "The intercept of our model is 70.55\n"
     ]
    }
   ],
   "source": [
    "intercept = model.intercept_[0]\n",
    "coefficient = model.coef_[0][0] #double array\n",
    "print(\"The coefficient of our model is {:.2}\".format(coefficient))\n",
    "print(\"The intercept of our model is {:.4}\".format(intercept))"
   ]
  },
  {
   "cell_type": "raw",
   "id": "artificial-ridge",
   "metadata": {},
   "source": [
    "We can say that a single unit increase in oil is associated with a 0.23 increase in the Exxon stock price so there"
   ]
  },
  {
   "cell_type": "code",
   "execution_count": 146,
   "id": "english-looking",
   "metadata": {},
   "outputs": [
    {
     "name": "stdout",
     "output_type": "stream",
     "text": [
      "The predicted value is 88.09\n"
     ]
    }
   ],
   "source": [
    "#taking predictions\n",
    "\n",
    "#1. taking a single prediction\n",
    "prediction = model.predict([[76.43]])\n",
    "predicted_value=prediction[0][0]\n",
    "print(\"The predicted value is {:.4}\".format(predicted_value))\n",
    "\n",
    "#if the oil price is 76.43 then the prediction is that the Exxon stock value will be 88.09"
   ]
  },
  {
   "cell_type": "code",
   "execution_count": 148,
   "id": "architectural-component",
   "metadata": {},
   "outputs": [
    {
     "data": {
      "text/plain": [
       "array([[82.39718427],\n",
       "       [83.0168246 ],\n",
       "       [81.66738567],\n",
       "       [79.18882438],\n",
       "       [84.12070236]])"
      ]
     },
     "execution_count": 148,
     "metadata": {},
     "output_type": "execute_result"
    }
   ],
   "source": [
    "#taking multiple predictions\n",
    "y_pred = model.predict(X_test)\n",
    "\n",
    "y_pred[:5]"
   ]
  },
  {
   "cell_type": "markdown",
   "id": "dominican-turner",
   "metadata": {},
   "source": [
    "## Evaluation of the model\n",
    "### Model fit"
   ]
  },
  {
   "cell_type": "code",
   "execution_count": 153,
   "id": "competent-parking",
   "metadata": {},
   "outputs": [
    {
     "name": "stdout",
     "output_type": "stream",
     "text": [
      "MSE = 38.75\n",
      "MAE = 5.05\n",
      "RMSE = 6.225\n"
     ]
    }
   ],
   "source": [
    "import math\n",
    "# calculate the mean squared error.\n",
    "model_mse = mean_squared_error(y_test, y_pred)\n",
    "\n",
    "# calculate the mean absolute error.\n",
    "model_mae = mean_absolute_error(y_test, y_pred)\n",
    "\n",
    "# calulcate the root mean squared error\n",
    "model_rmse =  math.sqrt(model_mse)\n",
    "\n",
    "# display the output\n",
    "print(\"MSE = {:.4}\".format(model_mse))\n",
    "print(\"MAE = {:.4}\".format(model_mae))\n",
    "print(\"RMSE = {:.4}\".format(model_rmse))"
   ]
  },
  {
   "cell_type": "code",
   "execution_count": 155,
   "id": "moving-thinking",
   "metadata": {},
   "outputs": [
    {
     "name": "stdout",
     "output_type": "stream",
     "text": [
      "R2: 0.36\n"
     ]
    }
   ],
   "source": [
    "#R squared metric helps measure the goodness of fit or how well our data fits the model. Higher R-squared value,better the data fit the model\n",
    "model_r2 = r2_score(y_test, y_pred)\n",
    "print(\"R2: {:.2}\".format(model_r2))"
   ]
  },
  {
   "cell_type": "markdown",
   "id": "funny-thirty",
   "metadata": {},
   "source": [
    "## Plotting the regression line"
   ]
  },
  {
   "cell_type": "code",
   "execution_count": 158,
   "id": "meaning-madison",
   "metadata": {},
   "outputs": [
    {
     "data": {
      "image/png": "[encoded data removed]",
      "text/plain": [
       "<Figure size 432x288 with 1 Axes>"
      ]
     },
     "metadata": {},
     "output_type": "display_data"
    }
   ],
   "source": [
    "#first the scatterplot of the test dataset\n",
    "plt.scatter(X_test,y_test,color='cadetblue',label='Price',alpha=0.5)\n",
    "plt.plot(X_test,y_pred,color='royalblue',label='Regression line',linewidth=2,linestyle='-')\n",
    "\n",
    "plt.title(\"Regression line Exxon_price vs oil_price\")\n",
    "plt.xlabel(\"Oil\")\n",
    "plt.ylabel(\"Exxon stock\")\n",
    "plt.legend()\n",
    "plt.show()\n"
   ]
  },
  {
   "cell_type": "code",
   "execution_count": null,
   "id": "typical-personality",
   "metadata": {},
   "outputs": [],
   "source": []
  }
 ],
 "metadata": {
  "kernelspec": {
   "display_name": "Python 3",
   "language": "python",
   "name": "python3"
  },
  "language_info": {
   "codemirror_mode": {
    "name": "ipython",
    "version": 3
   },
   "file_extension": ".py",
   "mimetype": "text/x-python",
   "name": "python",
   "nbconvert_exporter": "python",
   "pygments_lexer": "ipython3",
   "version": "3.9.1"
  }
 },
 "nbformat": 4,
 "nbformat_minor": 5
}
